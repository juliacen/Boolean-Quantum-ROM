{
 "cells": [
  {
   "cell_type": "markdown",
   "id": "1c30b200",
   "metadata": {},
   "source": [
    "# Boolean Quantum ROM\n",
    "**Author:** Julia Cen"
   ]
  },
  {
   "cell_type": "markdown",
   "id": "923dca67",
   "metadata": {},
   "source": [
    "In this notebook, we will build a Qiskit function that takes a boolean function $f:\\mathbb{F}_2^n\\rightarrow \\mathbb{F}_2$ and outputs a circuit, $U$, such that\n",
    "\n",
    "$$\n",
    "U|x\\rangle_n|0\\rangle_1 \\, = \\, |x\\rangle_n|f(x)\\rangle_1.\n",
    "$$\n",
    "\n",
    "The construction may use any number of ancillas and any controlled multi-qubit gates."
   ]
  },
  {
   "cell_type": "code",
   "execution_count": 4,
   "id": "130cfcac",
   "metadata": {},
   "outputs": [],
   "source": [
    "from qiskit import *\n",
    "from qiskit.quantum_info import *\n",
    "from qiskit.circuit.library import *\n",
    "\n",
    "import numpy as np"
   ]
  },
  {
   "cell_type": "markdown",
   "id": "a53395ce",
   "metadata": {},
   "source": [
    "Let us first define the boolean function. The input is a bitstring and output is a boolean value."
   ]
  },
  {
   "cell_type": "code",
   "execution_count": 2,
   "id": "e29bf4c6",
   "metadata": {},
   "outputs": [
    {
     "name": "stdout",
     "output_type": "stream",
     "text": [
      "{'000': 1, '001': 0, '010': 1, '011': 0, '100': 0, '101': 1, '110': 0, '111': 1}\n"
     ]
    }
   ],
   "source": [
    "# Length of string\n",
    "n = 3\n",
    "\n",
    "# Define the boolean function\n",
    "f = {\n",
    "    \"000\": 1,\n",
    "    \"001\": 0,\n",
    "    \"010\": 1,\n",
    "    \"011\": 0,\n",
    "    \"100\": 0,\n",
    "    \"101\": 1,\n",
    "    \"110\": 0,\n",
    "    \"111\": 1,\n",
    "}\n",
    "\n",
    "print(f)"
   ]
  },
  {
   "cell_type": "markdown",
   "id": "b6c52385",
   "metadata": {},
   "source": [
    "Now we can construct the quantum ROM for general n length bitstring functions. The idea of this code to construct the quantum ROM is that it runs through all bitstring definitions given in the above dictionary. For dictionary values of 1, we append to the circuit X-gates to turn the 0s in our bitstring to 1s, then we can apply a multi-controlled gate to turn our target bit from 0 to 1 if all our control bits are 1. After this, we reverse the X-gates to return our control bits back to the orignal state."
   ]
  },
  {
   "cell_type": "code",
   "execution_count": 26,
   "id": "6644ed97",
   "metadata": {},
   "outputs": [
    {
     "data": {
      "image/png": "[encoded data removed]",
      "text/plain": [
       "<Figure size 921.043x367.889 with 1 Axes>"
      ]
     },
     "execution_count": 26,
     "metadata": {},
     "output_type": "execute_result"
    }
   ],
   "source": [
    "# Input-controls\n",
    "quantum_keys = QuantumRegister(size=n, name=\"keys\")\n",
    "# Output-target\n",
    "quantum_value = AncillaRegister(size=1, name=\"value\")\n",
    "\n",
    "qrom = QuantumCircuit(quantum_keys, quantum_value, name=\"qrom\")\n",
    "\n",
    "\n",
    "# Looping over dictionary\n",
    "for fin, fout  in f.items():\n",
    "    # Adds to qrom if f outputs 1\n",
    "    if fout == 1:\n",
    "        # Apply X gates to bits in bitstring that are 0\n",
    "        for i, bit in enumerate(fin):\n",
    "            if bit == '0':\n",
    "                qrom.x(quantum_keys[i])\n",
    "\n",
    "        # Apply multi-controlled X to the value qubit\n",
    "        qrom.mcx(quantum_keys, quantum_value)\n",
    "\n",
    "        # Undo the X gates\n",
    "        for i, bit in enumerate(fin):\n",
    "            if bit == '0':\n",
    "                qrom.x(quantum_keys[i])\n",
    "\n",
    "\n",
    "qrom.draw(output=\"mpl\")"
   ]
  }
 ],
 "metadata": {
  "kernelspec": {
   "display_name": "Qiskit (stable)",
   "language": "python",
   "name": "qiskit-stable"
  },
  "language_info": {
   "codemirror_mode": {
    "name": "ipython",
    "version": 3
   },
   "file_extension": ".py",
   "mimetype": "text/x-python",
   "name": "python",
   "nbconvert_exporter": "python",
   "pygments_lexer": "ipython3",
   "version": "3.12.0"
  }
 },
 "nbformat": 4,
 "nbformat_minor": 5
}
